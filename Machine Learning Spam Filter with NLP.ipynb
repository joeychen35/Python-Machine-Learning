{
 "cells": [
  {
   "cell_type": "markdown",
   "metadata": {},
   "source": [
    "# Machine Learning Spam Filter with NLP"
   ]
  },
  {
   "cell_type": "markdown",
   "metadata": {},
   "source": [
    "### Introduction"
   ]
  },
  {
   "cell_type": "markdown",
   "metadata": {},
   "source": [
    "In this script, I will be building a machine learning model that will fitler spam emails. This model will predict whether the email is spam or ham (not spam). I will also be using some Natural Language Processing for the cleaning process. The data we used are sample spam data downloaded from University of California Irvine database.\n",
    "\n",
    "Sit back and Enjoy!"
   ]
  },
  {
   "cell_type": "code",
   "execution_count": 306,
   "metadata": {},
   "outputs": [],
   "source": [
    "# import function\n",
    "import nltk\n",
    "import pandas as pd\n",
    "import re\n",
    "from sklearn.feature_extraction.text import TfidfVectorizer, CountVectorizer\n",
    "import string\n",
    "import matplotlib.pyplot as plt\n",
    "import numpy as np\n",
    "from sklearn.model_selection import train_test_split"
   ]
  },
  {
   "cell_type": "markdown",
   "metadata": {},
   "source": [
    "### Read data"
   ]
  },
  {
   "cell_type": "code",
   "execution_count": 277,
   "metadata": {},
   "outputs": [
    {
     "data": {
      "text/html": [
       "<div>\n",
       "<style scoped>\n",
       "    .dataframe tbody tr th:only-of-type {\n",
       "        vertical-align: middle;\n",
       "    }\n",
       "\n",
       "    .dataframe tbody tr th {\n",
       "        vertical-align: top;\n",
       "    }\n",
       "\n",
       "    .dataframe thead th {\n",
       "        text-align: right;\n",
       "    }\n",
       "</style>\n",
       "<table border=\"1\" class=\"dataframe\">\n",
       "  <thead>\n",
       "    <tr style=\"text-align: right;\">\n",
       "      <th></th>\n",
       "      <th>label</th>\n",
       "      <th>body_text</th>\n",
       "      <th>cap%</th>\n",
       "      <th>body_len</th>\n",
       "      <th>punct%</th>\n",
       "    </tr>\n",
       "  </thead>\n",
       "  <tbody>\n",
       "    <tr>\n",
       "      <th>0</th>\n",
       "      <td>spam</td>\n",
       "      <td>Free entry in 2 a wkly comp to win FA Cup fina...</td>\n",
       "      <td>7.8</td>\n",
       "      <td>128</td>\n",
       "      <td>4.7</td>\n",
       "    </tr>\n",
       "    <tr>\n",
       "      <th>1</th>\n",
       "      <td>ham</td>\n",
       "      <td>Nah I don't think he goes to usf, he lives aro...</td>\n",
       "      <td>4.1</td>\n",
       "      <td>49</td>\n",
       "      <td>4.1</td>\n",
       "    </tr>\n",
       "    <tr>\n",
       "      <th>2</th>\n",
       "      <td>ham</td>\n",
       "      <td>Even my brother is not like to speak with me. ...</td>\n",
       "      <td>3.2</td>\n",
       "      <td>62</td>\n",
       "      <td>3.2</td>\n",
       "    </tr>\n",
       "    <tr>\n",
       "      <th>3</th>\n",
       "      <td>ham</td>\n",
       "      <td>I HAVE A DATE ON SUNDAY WITH WILL!!</td>\n",
       "      <td>92.9</td>\n",
       "      <td>28</td>\n",
       "      <td>7.1</td>\n",
       "    </tr>\n",
       "    <tr>\n",
       "      <th>4</th>\n",
       "      <td>ham</td>\n",
       "      <td>As per your request 'Melle Melle (Oru Minnamin...</td>\n",
       "      <td>7.4</td>\n",
       "      <td>135</td>\n",
       "      <td>4.4</td>\n",
       "    </tr>\n",
       "  </tbody>\n",
       "</table>\n",
       "</div>"
      ],
      "text/plain": [
       "  label                                          body_text  cap%  body_len  \\\n",
       "0  spam  Free entry in 2 a wkly comp to win FA Cup fina...   7.8       128   \n",
       "1   ham  Nah I don't think he goes to usf, he lives aro...   4.1        49   \n",
       "2   ham  Even my brother is not like to speak with me. ...   3.2        62   \n",
       "3   ham                I HAVE A DATE ON SUNDAY WITH WILL!!  92.9        28   \n",
       "4   ham  As per your request 'Melle Melle (Oru Minnamin...   7.4       135   \n",
       "\n",
       "   punct%  \n",
       "0     4.7  \n",
       "1     4.1  \n",
       "2     3.2  \n",
       "3     7.1  \n",
       "4     4.4  "
      ]
     },
     "execution_count": 277,
     "metadata": {},
     "output_type": "execute_result"
    }
   ],
   "source": [
    "df = pd.read_csv(\"SMSSpamCollection.tsv\", sep='\\t')\n",
    "df.columns = ['label', 'body_text']\n",
    "df.head()"
   ]
  },
  {
   "cell_type": "markdown",
   "metadata": {},
   "source": [
    "### Feature Engineering"
   ]
  },
  {
   "cell_type": "markdown",
   "metadata": {},
   "source": [
    "Creating additional features to help predicting"
   ]
  },
  {
   "cell_type": "code",
   "execution_count": null,
   "metadata": {},
   "outputs": [],
   "source": [
    "def count_capital(text):\n",
    "    count = sum(1 for char in text if char.isupper())\n",
    "    return round(count/(len(text) - text.count(\" \")), 3)*100\n",
    "\n",
    "df['cap%'] = df['body_text'].apply(lambda x: count_capital(x))\n",
    "\n",
    "\n",
    "def count_punct(text):\n",
    "    count = sum([1 for char in text if char in string.punctuation])\n",
    "    return round(count/(len(text) - text.count(\" \")), 3)*100\n",
    "\n",
    "df['body_len'] = df['body_text'].apply(lambda x: len(x) - x.count(\" \"))\n",
    "df['punct%'] = df['body_text'].apply(lambda x: count_punct(x))\n",
    "\n",
    "df.head()"
   ]
  },
  {
   "cell_type": "markdown",
   "metadata": {},
   "source": [
    "Checking how new features perform using some data exploration and data visualization\n",
    "\n",
    "We can tell from the graph, both Capitalize % and the length of the email are pretty strong predictor for filtering. "
   ]
  },
  {
   "cell_type": "code",
   "execution_count": 278,
   "metadata": {},
   "outputs": [
    {
     "data": {
      "image/png": "[encoded data removed]",
      "text/plain": [
       "<Figure size 360x360 with 1 Axes>"
      ]
     },
     "metadata": {
      "needs_background": "light"
     },
     "output_type": "display_data"
    },
    {
     "data": {
      "image/png": "[encoded data removed]",
      "text/plain": [
       "<Figure size 360x360 with 1 Axes>"
      ]
     },
     "metadata": {
      "needs_background": "light"
     },
     "output_type": "display_data"
    },
    {
     "data": {
      "image/png": "[encoded data removed]",
      "text/plain": [
       "<Figure size 360x360 with 1 Axes>"
      ]
     },
     "metadata": {
      "needs_background": "light"
     },
     "output_type": "display_data"
    }
   ],
   "source": [
    "df_spam = df[df['label'] == 'spam']\n",
    "df_ham = df[df['label'] == 'ham']\n",
    "\n",
    "plt.figure(figsize=(5,5))\n",
    "bins = np.linspace(0, 100, 20)\n",
    "plt.hist(df_spam['cap%'], alpha = 0.5, bins = bins, density= True, label = 'Spam')\n",
    "plt.hist(df_ham['cap%'], alpha = 0.5, bins = bins, density= True, label = 'Ham')\n",
    "plt.title('Capitalize letter% in Spam and Ham')\n",
    "plt.legend()\n",
    "plt.show()\n",
    "\n",
    "plt.figure(figsize=(5,5))\n",
    "plt.hist(df_spam['punct%'], alpha = 0.5, bins = bins, density= True, label = 'Spam')\n",
    "plt.hist(df_ham['punct%'], alpha = 0.5, bins = bins, density= True, label = 'Ham')\n",
    "plt.title('Punctuation% in Spam and Ham')\n",
    "plt.legend()\n",
    "plt.show()\n",
    "\n",
    "plt.figure(figsize=(5,5))\n",
    "bins = np.linspace(0, 200, 40)\n",
    "plt.hist(df_spam['body_len'], alpha = 0.5, bins = bins, density= True, label = 'Spam')\n",
    "plt.hist(df_ham['body_len'], alpha = 0.5, bins = bins, density= True, label = 'Ham')\n",
    "plt.title('Length of Spam and Ham')\n",
    "plt.legend()\n",
    "plt.show()\n"
   ]
  },
  {
   "cell_type": "markdown",
   "metadata": {},
   "source": [
    "Create a function that will tokenize the word in each email and get rid of the punctuation and stopwords. Moreover, word that have the same meaning will be stem. \n",
    "\n",
    "For instance, \"running\" and \"run\" will be stem to \"run\". In this way, both \"running\" and \"run\" will be view as same word to the model."
   ]
  },
  {
   "cell_type": "code",
   "execution_count": 279,
   "metadata": {},
   "outputs": [],
   "source": [
    "def clean_text(text):\n",
    "    text = \"\".join([word.lower() for word in text if word not in string.punctuation])\n",
    "    tokens = nltk.word_tokenize(text)\n",
    "    text = [ps.stem(word) for word in tokens if word not in stopwords]\n",
    "    return text"
   ]
  },
  {
   "cell_type": "markdown",
   "metadata": {},
   "source": [
    "### Vectorizing the data"
   ]
  },
  {
   "cell_type": "markdown",
   "metadata": {},
   "source": [
    "The reason why we split the data right now is to avoid data leakeage. \n",
    "\n",
    "I train TfidfVectorizer on training data, we vectorized a total of 7109 words from the data vs. 8106 vectorize when train on both training dataset and testing dataset. \n",
    "\n",
    "As a result, 8106 - 7109 = 997 word will not be used for training (prediction). This prevent data leakage and make it more realistic scenerio. "
   ]
  },
  {
   "cell_type": "code",
   "execution_count": 280,
   "metadata": {},
   "outputs": [],
   "source": [
    "# Test train split in order to avoid data leakeage\n",
    "X_train, X_test, y_train, y_test = train_test_split(df[['body_text', 'cap%', 'body_len', 'punct%']], df['label'].astype('category').cat.codes, test_size = 0.2, random_state = 1)\n",
    "\n",
    "\n",
    "tfidf_vect = TfidfVectorizer(analyzer=clean_text)\n",
    "X_tfidf_fit = tfidf_vect.fit(X_train['body_text'])\n",
    "\n",
    "# Used train result to transform both train and testing dataset, since we need them to be in the same vectorize format\n",
    "X_tfidf_train = X_tfidf_fit.transform(X_train['body_text'])\n",
    "X_tfidf_test = X_tfidf_fit.transform(X_test['body_text'])\n",
    "\n",
    "# Change them to dataframe format\n",
    "X_tfidf_train_feat = pd.DataFrame(X_tfidf_train.toarray())\n",
    "X_tfidf_test_feat = pd.DataFrame(X_tfidf_test.toarray())\n",
    "\n",
    "# parse column name to make it easier to understand\n",
    "X_tfidf_train_feat.columns = X_tfidf_fit.get_feature_names()\n",
    "X_tfidf_test_feat.columns = X_tfidf_fit.get_feature_names()"
   ]
  },
  {
   "cell_type": "code",
   "execution_count": 281,
   "metadata": {},
   "outputs": [
    {
     "name": "stdout",
     "output_type": "stream",
     "text": [
      "     0  008704050406  0089mi  0121  01223585236  01223585334  0125698789   02  \\\n",
      "0  0.0           0.0     0.0   0.0          0.0          0.0         0.0  0.0   \n",
      "1  0.0           0.0     0.0   0.0          0.0          0.0         0.0  0.0   \n",
      "2  0.0           0.0     0.0   0.0          0.0          0.0         0.0  0.0   \n",
      "3  0.0           0.0     0.0   0.0          0.0          0.0         0.0  0.0   \n",
      "4  0.0           0.0     0.0   0.0          0.0          0.0         0.0  0.0   \n",
      "\n",
      "   020603  0207  ...    »    é    ü  üll    –    ‘    ’    “    …  …thank  \n",
      "0     0.0   0.0  ...  0.0  0.0  0.0  0.0  0.0  0.0  0.0  0.0  0.0     0.0  \n",
      "1     0.0   0.0  ...  0.0  0.0  0.0  0.0  0.0  0.0  0.0  0.0  0.0     0.0  \n",
      "2     0.0   0.0  ...  0.0  0.0  0.0  0.0  0.0  0.0  0.0  0.0  0.0     0.0  \n",
      "3     0.0   0.0  ...  0.0  0.0  0.0  0.0  0.0  0.0  0.0  0.0  0.0     0.0  \n",
      "4     0.0   0.0  ...  0.0  0.0  0.0  0.0  0.0  0.0  0.0  0.0  0.0     0.0  \n",
      "\n",
      "[5 rows x 7109 columns]\n",
      "(4453, 7109)\n"
     ]
    }
   ],
   "source": [
    "print(X_tfidf_train_feat.head())\n",
    "print(X_tfidf_train_feat.shape)"
   ]
  },
  {
   "cell_type": "code",
   "execution_count": 282,
   "metadata": {},
   "outputs": [
    {
     "name": "stdout",
     "output_type": "stream",
     "text": [
      "     0  008704050406  0089mi  0121  01223585236  01223585334  0125698789   02  \\\n",
      "0  0.0           0.0     0.0   0.0          0.0          0.0         0.0  0.0   \n",
      "1  0.0           0.0     0.0   0.0          0.0          0.0         0.0  0.0   \n",
      "2  0.0           0.0     0.0   0.0          0.0          0.0         0.0  0.0   \n",
      "3  0.0           0.0     0.0   0.0          0.0          0.0         0.0  0.0   \n",
      "4  0.0           0.0     0.0   0.0          0.0          0.0         0.0  0.0   \n",
      "\n",
      "   020603  0207  ...    »    é    ü  üll    –    ‘    ’    “    …  …thank  \n",
      "0     0.0   0.0  ...  0.0  0.0  0.0  0.0  0.0  0.0  0.0  0.0  0.0     0.0  \n",
      "1     0.0   0.0  ...  0.0  0.0  0.0  0.0  0.0  0.0  0.0  0.0  0.0     0.0  \n",
      "2     0.0   0.0  ...  0.0  0.0  0.0  0.0  0.0  0.0  0.0  0.0  0.0     0.0  \n",
      "3     0.0   0.0  ...  0.0  0.0  0.0  0.0  0.0  0.0  0.0  0.0  0.0     0.0  \n",
      "4     0.0   0.0  ...  0.0  0.0  0.0  0.0  0.0  0.0  0.0  0.0  0.0     0.0  \n",
      "\n",
      "[5 rows x 7109 columns]\n",
      "(1114, 7109)\n"
     ]
    }
   ],
   "source": [
    "print(X_tfidf_test_feat.head())\n",
    "print(X_tfidf_test_feat.shape)"
   ]
  },
  {
   "cell_type": "code",
   "execution_count": 283,
   "metadata": {},
   "outputs": [
    {
     "name": "stdout",
     "output_type": "stream",
     "text": [
      "   body_len  punct%  cap%    0  008704050406  0089mi  0121  01223585236  \\\n",
      "0        53     3.8   5.7  0.0           0.0     0.0   0.0          0.0   \n",
      "1        51     7.8   2.0  0.0           0.0     0.0   0.0          0.0   \n",
      "2        60     3.3   3.3  0.0           0.0     0.0   0.0          0.0   \n",
      "3         5    40.0  60.0  0.0           0.0     0.0   0.0          0.0   \n",
      "4        46    13.0   4.3  0.0           0.0     0.0   0.0          0.0   \n",
      "\n",
      "   01223585334  0125698789  ...    »    é    ü  üll    –    ‘    ’    “    …  \\\n",
      "0          0.0         0.0  ...  0.0  0.0  0.0  0.0  0.0  0.0  0.0  0.0  0.0   \n",
      "1          0.0         0.0  ...  0.0  0.0  0.0  0.0  0.0  0.0  0.0  0.0  0.0   \n",
      "2          0.0         0.0  ...  0.0  0.0  0.0  0.0  0.0  0.0  0.0  0.0  0.0   \n",
      "3          0.0         0.0  ...  0.0  0.0  0.0  0.0  0.0  0.0  0.0  0.0  0.0   \n",
      "4          0.0         0.0  ...  0.0  0.0  0.0  0.0  0.0  0.0  0.0  0.0  0.0   \n",
      "\n",
      "   …thank  \n",
      "0     0.0  \n",
      "1     0.0  \n",
      "2     0.0  \n",
      "3     0.0  \n",
      "4     0.0  \n",
      "\n",
      "[5 rows x 7112 columns]\n",
      "(4453, 7112)\n",
      "   body_len  punct%  cap%    0  008704050406  0089mi  0121  01223585236  \\\n",
      "0       132     1.5  11.4  0.0           0.0     0.0   0.0          0.0   \n",
      "1        35     8.6   2.9  0.0           0.0     0.0   0.0          0.0   \n",
      "2        37     5.4   5.4  0.0           0.0     0.0   0.0          0.0   \n",
      "3        31     0.0   3.2  0.0           0.0     0.0   0.0          0.0   \n",
      "4        55     7.3  18.2  0.0           0.0     0.0   0.0          0.0   \n",
      "\n",
      "   01223585334  0125698789  ...    »    é    ü  üll    –    ‘    ’    “    …  \\\n",
      "0          0.0         0.0  ...  0.0  0.0  0.0  0.0  0.0  0.0  0.0  0.0  0.0   \n",
      "1          0.0         0.0  ...  0.0  0.0  0.0  0.0  0.0  0.0  0.0  0.0  0.0   \n",
      "2          0.0         0.0  ...  0.0  0.0  0.0  0.0  0.0  0.0  0.0  0.0  0.0   \n",
      "3          0.0         0.0  ...  0.0  0.0  0.0  0.0  0.0  0.0  0.0  0.0  0.0   \n",
      "4          0.0         0.0  ...  0.0  0.0  0.0  0.0  0.0  0.0  0.0  0.0  0.0   \n",
      "\n",
      "   …thank  \n",
      "0     0.0  \n",
      "1     0.0  \n",
      "2     0.0  \n",
      "3     0.0  \n",
      "4     0.0  \n",
      "\n",
      "[5 rows x 7112 columns]\n",
      "(1114, 7112)\n"
     ]
    }
   ],
   "source": [
    "X_train_feat_combine = pd.concat([X_train[['body_len', 'punct%', 'cap%']].reset_index(drop = True), X_tfidf_train_feat], axis=1)\n",
    "X_test_feat_combine = pd.concat([X_test[['body_len', 'punct%', 'cap%']].reset_index(drop = True), X_tfidf_test_feat], axis=1)\n",
    "\n",
    "\n",
    "print(X_train_feat_combine.head())\n",
    "print(X_train_feat_combine.shape)\n",
    "\n",
    "print(X_test_feat_combine.head())\n",
    "print(X_test_feat_combine.shape)"
   ]
  },
  {
   "cell_type": "code",
   "execution_count": 307,
   "metadata": {},
   "outputs": [],
   "source": [
    "# to make our life easier assign the newly vectorize data back to X_train and X_test\n",
    "X_train = X_train_feat_combine\n",
    "X_test = X_test_feat_combine"
   ]
  },
  {
   "cell_type": "markdown",
   "metadata": {},
   "source": [
    "### Model Building"
   ]
  },
  {
   "cell_type": "code",
   "execution_count": 292,
   "metadata": {},
   "outputs": [],
   "source": [
    "from sklearn.ensemble import RandomForestClassifier, GradientBoostingClassifier\n",
    "from sklearn.metrics import precision_recall_fscore_support as score\n",
    "import time\n",
    "from sklearn.model_selection import train_test_split\n",
    "from imblearn.under_sampling import RandomUnderSampler\n",
    "from imblearn.over_sampling import RandomOverSampler\n",
    "from collections import Counter\n",
    "import matplotlib\n",
    "from sklearn.metrics import confusion_matrix\n",
    "from sklearn import datasets\n",
    "from sklearn import svm\n",
    "from sklearn.metrics import roc_curve, auc\n",
    "from sklearn.metrics import classification_report\n",
    "from sklearn.feature_selection import SelectFromModel\n",
    "from xgboost import XGBClassifier\n",
    "from sklearn.model_selection import GridSearchCV"
   ]
  },
  {
   "cell_type": "code",
   "execution_count": 308,
   "metadata": {},
   "outputs": [],
   "source": [
    "def evalation(y_pred,y_test): ### Fuction to evalate the model\n",
    "    \n",
    "    ## Calculate the confusion matrix\n",
    "    print('confusion Matrix')\n",
    "    print(confusion_matrix(y_test, y_pred))\n",
    "    tn, fp, fn, tp = confusion_matrix(y_test, y_pred).ravel()\n",
    "    ## Calculate and display accuracy\n",
    "    accuracy = (tp + tn)/(tn + fp + fn + tp)\n",
    "    false_postive = (fp)/(fp + tn)\n",
    "    false_negative = fn / (fn + tp)\n",
    "    \n",
    "    #print(tn, fp, fn, tp)\n",
    "    \n",
    "    print('Accuracy:', round(accuracy*100, 4), '%.')\n",
    "    print('Fasle Positive Rate', round(false_postive*100, 4), '%')\n",
    "    print('Fasle Negative Rate', round(false_negative*100, 4), '%')\n",
    "    \n",
    "    print('Classification Report')\n",
    "    print(classification_report(y_test, y_pred))\n",
    "    \n",
    "def roc_curve_eval(y_pred,y_test): ### Function to calculate the ROC curve and AUC\n",
    "    fpr, tpr, _ = roc_curve(y_test, y_pred)\n",
    "    roc_auc = auc(fpr, tpr)\n",
    "    print('Roc Auc score: {}'.format(round(roc_auc,4)))\n",
    "    fig = plt.figure()\n",
    "    lw = 2\n",
    "    plt.plot(fpr, tpr, color='darkorange', lw=lw, label='ROC curve (area = %0.2f)' % roc_auc)\n",
    "    plt.plot([0, 1], [0, 1], color='navy', lw=lw, linestyle='--')\n",
    "    plt.xlim([0.0, 1.0])\n",
    "    plt.ylim([0.0, 1.05])\n",
    "    plt.xlabel('False Positive Rate')\n",
    "    plt.ylabel('True Positive Rate')\n",
    "    plt.title('Receiver operating characteristic example')\n",
    "    plt.legend(loc=\"lower right\")\n",
    "    #fig.savefig('/tmp/roc.png')\n",
    "    plt.show()\n",
    "    "
   ]
  },
  {
   "cell_type": "markdown",
   "metadata": {},
   "source": [
    "### Run model"
   ]
  },
  {
   "cell_type": "markdown",
   "metadata": {},
   "source": [
    "RandomForest model"
   ]
  },
  {
   "cell_type": "code",
   "execution_count": 310,
   "metadata": {},
   "outputs": [
    {
     "name": "stdout",
     "output_type": "stream",
     "text": [
      "confusion Matrix\n",
      "[[956   0]\n",
      " [ 24 134]]\n",
      "Accuracy: 97.8456 %.\n",
      "Fasle Positive Rate 0.0 %\n",
      "Fasle Negative Rate 15.1899 %\n",
      "Classification Report\n",
      "              precision    recall  f1-score   support\n",
      "\n",
      "           0       0.98      1.00      0.99       956\n",
      "           1       1.00      0.85      0.92       158\n",
      "\n",
      "    accuracy                           0.98      1114\n",
      "   macro avg       0.99      0.92      0.95      1114\n",
      "weighted avg       0.98      0.98      0.98      1114\n",
      "\n",
      "Roc Auc score: 0.9241\n"
     ]
    },
    {
     "data": {
      "image/png": "[encoded data removed]",
      "text/plain": [
       "<Figure size 720x720 with 1 Axes>"
      ]
     },
     "metadata": {
      "needs_background": "light"
     },
     "output_type": "display_data"
    },
    {
     "data": {
      "text/plain": [
       "[(0.04968736047897116, 'body_len'),\n",
       " (0.037193449608890615, 'call'),\n",
       " (0.03510855758302826, 'cap%'),\n",
       " (0.026752457909083777, 'txt'),\n",
       " (0.02063440021168295, 'claim'),\n",
       " (0.020243325703427732, 'mobil'),\n",
       " (0.019366895475685937, 'free'),\n",
       " (0.01759329126971878, 'servic'),\n",
       " (0.015204440050685084, 'repli'),\n",
       " (0.014972235711712849, 'prize'),\n",
       " (0.012178935779427297, 'stop'),\n",
       " (0.011798708761811508, 'text'),\n",
       " (0.01057296704806503, 'tone'),\n",
       " (0.010471005409463125, 'punct%'),\n",
       " (0.010266810768152992, '18'),\n",
       " (0.010212811136068338, 'contact'),\n",
       " (0.010162086617599729, 'urgent'),\n",
       " (0.009065712134146827, 'custom'),\n",
       " (0.00810992299223528, 'win'),\n",
       " (0.006870485719270919, 'per'),\n",
       " (0.006682650476287882, '16'),\n",
       " (0.006585935093808587, 'tc'),\n",
       " (0.0063802507802888375, 'nokia'),\n",
       " (0.005696111002904419, 'voucher'),\n",
       " (0.005651196836670997, 'select')]"
      ]
     },
     "execution_count": 310,
     "metadata": {},
     "output_type": "execute_result"
    }
   ],
   "source": [
    "### select model to use\n",
    "clf = RandomForestClassifier(random_state=1)\n",
    "\n",
    "### fit the model\n",
    "clf.fit(X_train, y_train)\n",
    "\n",
    "### predict\n",
    "y_pred = clf.predict(X_test)\n",
    "\n",
    "### evaluate performance\n",
    "evalation(y_pred,y_test)\n",
    "roc_curve_eval(y_pred,y_test)\n",
    "\n",
    "### Show top 25 most important features\n",
    "sorted(zip(clf.feature_importances_, X_train.columns), reverse = True)[:25]"
   ]
  },
  {
   "cell_type": "markdown",
   "metadata": {},
   "source": [
    "XGboost model"
   ]
  },
  {
   "cell_type": "code",
   "execution_count": 311,
   "metadata": {},
   "outputs": [
    {
     "name": "stdout",
     "output_type": "stream",
     "text": [
      "confusion Matrix\n",
      "[[949   7]\n",
      " [ 13 145]]\n",
      "Accuracy: 98.2047 %.\n",
      "Fasle Positive Rate 0.7322 %\n",
      "Fasle Negative Rate 8.2278 %\n",
      "Classification Report\n",
      "              precision    recall  f1-score   support\n",
      "\n",
      "           0       0.99      0.99      0.99       956\n",
      "           1       0.95      0.92      0.94       158\n",
      "\n",
      "    accuracy                           0.98      1114\n",
      "   macro avg       0.97      0.96      0.96      1114\n",
      "weighted avg       0.98      0.98      0.98      1114\n",
      "\n",
      "Roc Auc score: 0.9552\n"
     ]
    },
    {
     "data": {
      "image/png": "[encoded data removed]",
      "text/plain": [
       "<Figure size 720x720 with 1 Axes>"
      ]
     },
     "metadata": {
      "needs_background": "light"
     },
     "output_type": "display_data"
    },
    {
     "data": {
      "text/plain": [
       "[(0.056700703, 'smile'),\n",
       " (0.035494264, '18'),\n",
       " (0.032840002, 'body_len'),\n",
       " (0.032061063, 'claim'),\n",
       " (0.03058447, 'network'),\n",
       " (0.027253231, 'servic'),\n",
       " (0.025991885, 'give'),\n",
       " (0.025455706, 'rington'),\n",
       " (0.023610294, 'love'),\n",
       " (0.022449445, 'txt'),\n",
       " (0.021942273, 'rate'),\n",
       " (0.021611223, 'stop'),\n",
       " (0.021318553, 'call'),\n",
       " (0.019792318, 'tone'),\n",
       " (0.017024571, 'deliveri'),\n",
       " (0.014851605, 'cap%'),\n",
       " (0.0147029245, 'admir'),\n",
       " (0.014469977, '1'),\n",
       " (0.013738533, 'feel'),\n",
       " (0.013668052, 'appli'),\n",
       " (0.013130428, 'user'),\n",
       " (0.012878574, 'problem'),\n",
       " (0.01284278, 'chat'),\n",
       " (0.012355256, 'text'),\n",
       " (0.011941185, 'mobil')]"
      ]
     },
     "execution_count": 311,
     "metadata": {},
     "output_type": "execute_result"
    }
   ],
   "source": [
    "### select model to use\n",
    "clf = XGBClassifier(random_state=1)\n",
    "\n",
    "### fit the model\n",
    "clf.fit(X_train, y_train)\n",
    "\n",
    "### predict\n",
    "y_pred = clf.predict(X_test)\n",
    "\n",
    "### evaluate performance\n",
    "evalation(y_pred,y_test)\n",
    "roc_curve_eval(y_pred,y_test)\n",
    "\n",
    "### Show top 25 most important features\n",
    "sorted(zip(clf.feature_importances_, X_train.columns), reverse = True)[:25]"
   ]
  },
  {
   "cell_type": "markdown",
   "metadata": {},
   "source": [
    "### Grid Search both model to find the best parameter"
   ]
  },
  {
   "cell_type": "code",
   "execution_count": 301,
   "metadata": {},
   "outputs": [
    {
     "data": {
      "text/html": [
       "<div>\n",
       "<style scoped>\n",
       "    .dataframe tbody tr th:only-of-type {\n",
       "        vertical-align: middle;\n",
       "    }\n",
       "\n",
       "    .dataframe tbody tr th {\n",
       "        vertical-align: top;\n",
       "    }\n",
       "\n",
       "    .dataframe thead th {\n",
       "        text-align: right;\n",
       "    }\n",
       "</style>\n",
       "<table border=\"1\" class=\"dataframe\">\n",
       "  <thead>\n",
       "    <tr style=\"text-align: right;\">\n",
       "      <th></th>\n",
       "      <th>mean_fit_time</th>\n",
       "      <th>std_fit_time</th>\n",
       "      <th>mean_score_time</th>\n",
       "      <th>std_score_time</th>\n",
       "      <th>param_max_depth</th>\n",
       "      <th>param_n_estimators</th>\n",
       "      <th>params</th>\n",
       "      <th>split0_test_score</th>\n",
       "      <th>split1_test_score</th>\n",
       "      <th>split2_test_score</th>\n",
       "      <th>split3_test_score</th>\n",
       "      <th>split4_test_score</th>\n",
       "      <th>mean_test_score</th>\n",
       "      <th>std_test_score</th>\n",
       "      <th>rank_test_score</th>\n",
       "    </tr>\n",
       "  </thead>\n",
       "  <tbody>\n",
       "    <tr>\n",
       "      <th>7</th>\n",
       "      <td>24.316589</td>\n",
       "      <td>2.380649</td>\n",
       "      <td>0.495197</td>\n",
       "      <td>0.143792</td>\n",
       "      <td>90</td>\n",
       "      <td>150</td>\n",
       "      <td>{'max_depth': 90, 'n_estimators': 150}</td>\n",
       "      <td>0.979798</td>\n",
       "      <td>0.969697</td>\n",
       "      <td>0.977553</td>\n",
       "      <td>0.976404</td>\n",
       "      <td>0.971910</td>\n",
       "      <td>0.975073</td>\n",
       "      <td>0.003719</td>\n",
       "      <td>1</td>\n",
       "    </tr>\n",
       "    <tr>\n",
       "      <th>8</th>\n",
       "      <td>37.177193</td>\n",
       "      <td>0.502629</td>\n",
       "      <td>0.641896</td>\n",
       "      <td>0.245299</td>\n",
       "      <td>90</td>\n",
       "      <td>300</td>\n",
       "      <td>{'max_depth': 90, 'n_estimators': 300}</td>\n",
       "      <td>0.978676</td>\n",
       "      <td>0.969697</td>\n",
       "      <td>0.980920</td>\n",
       "      <td>0.975281</td>\n",
       "      <td>0.970787</td>\n",
       "      <td>0.975072</td>\n",
       "      <td>0.004347</td>\n",
       "      <td>2</td>\n",
       "    </tr>\n",
       "    <tr>\n",
       "      <th>11</th>\n",
       "      <td>28.347910</td>\n",
       "      <td>0.439215</td>\n",
       "      <td>0.324996</td>\n",
       "      <td>0.054405</td>\n",
       "      <td>None</td>\n",
       "      <td>300</td>\n",
       "      <td>{'max_depth': None, 'n_estimators': 300}</td>\n",
       "      <td>0.979798</td>\n",
       "      <td>0.969697</td>\n",
       "      <td>0.978676</td>\n",
       "      <td>0.973034</td>\n",
       "      <td>0.971910</td>\n",
       "      <td>0.974623</td>\n",
       "      <td>0.003933</td>\n",
       "      <td>3</td>\n",
       "    </tr>\n",
       "    <tr>\n",
       "      <th>4</th>\n",
       "      <td>17.264466</td>\n",
       "      <td>0.365687</td>\n",
       "      <td>0.305060</td>\n",
       "      <td>0.051943</td>\n",
       "      <td>60</td>\n",
       "      <td>150</td>\n",
       "      <td>{'max_depth': 60, 'n_estimators': 150}</td>\n",
       "      <td>0.977553</td>\n",
       "      <td>0.966330</td>\n",
       "      <td>0.980920</td>\n",
       "      <td>0.974157</td>\n",
       "      <td>0.971910</td>\n",
       "      <td>0.974174</td>\n",
       "      <td>0.004972</td>\n",
       "      <td>4</td>\n",
       "    </tr>\n",
       "    <tr>\n",
       "      <th>10</th>\n",
       "      <td>18.032146</td>\n",
       "      <td>1.441127</td>\n",
       "      <td>0.363781</td>\n",
       "      <td>0.089173</td>\n",
       "      <td>None</td>\n",
       "      <td>150</td>\n",
       "      <td>{'max_depth': None, 'n_estimators': 150}</td>\n",
       "      <td>0.976431</td>\n",
       "      <td>0.967452</td>\n",
       "      <td>0.979798</td>\n",
       "      <td>0.974157</td>\n",
       "      <td>0.969663</td>\n",
       "      <td>0.973500</td>\n",
       "      <td>0.004472</td>\n",
       "      <td>5</td>\n",
       "    </tr>\n",
       "  </tbody>\n",
       "</table>\n",
       "</div>"
      ],
      "text/plain": [
       "    mean_fit_time  std_fit_time  mean_score_time  std_score_time  \\\n",
       "7       24.316589      2.380649         0.495197        0.143792   \n",
       "8       37.177193      0.502629         0.641896        0.245299   \n",
       "11      28.347910      0.439215         0.324996        0.054405   \n",
       "4       17.264466      0.365687         0.305060        0.051943   \n",
       "10      18.032146      1.441127         0.363781        0.089173   \n",
       "\n",
       "   param_max_depth param_n_estimators  \\\n",
       "7               90                150   \n",
       "8               90                300   \n",
       "11            None                300   \n",
       "4               60                150   \n",
       "10            None                150   \n",
       "\n",
       "                                      params  split0_test_score  \\\n",
       "7     {'max_depth': 90, 'n_estimators': 150}           0.979798   \n",
       "8     {'max_depth': 90, 'n_estimators': 300}           0.978676   \n",
       "11  {'max_depth': None, 'n_estimators': 300}           0.979798   \n",
       "4     {'max_depth': 60, 'n_estimators': 150}           0.977553   \n",
       "10  {'max_depth': None, 'n_estimators': 150}           0.976431   \n",
       "\n",
       "    split1_test_score  split2_test_score  split3_test_score  \\\n",
       "7            0.969697           0.977553           0.976404   \n",
       "8            0.969697           0.980920           0.975281   \n",
       "11           0.969697           0.978676           0.973034   \n",
       "4            0.966330           0.980920           0.974157   \n",
       "10           0.967452           0.979798           0.974157   \n",
       "\n",
       "    split4_test_score  mean_test_score  std_test_score  rank_test_score  \n",
       "7            0.971910         0.975073        0.003719                1  \n",
       "8            0.970787         0.975072        0.004347                2  \n",
       "11           0.971910         0.974623        0.003933                3  \n",
       "4            0.971910         0.974174        0.004972                4  \n",
       "10           0.969663         0.973500        0.004472                5  "
      ]
     },
     "execution_count": 301,
     "metadata": {},
     "output_type": "execute_result"
    }
   ],
   "source": [
    "rf = RandomForestClassifier()\n",
    "param = {\n",
    "   'n_estimators': [10, 150, 300],\n",
    "    'max_depth': [30, 60, 90, None],\n",
    "}\n",
    "\n",
    "clf = GridSearchCV(rf, param, cv=5, n_jobs=-1)\n",
    "cv_fit = clf.fit(X_train, y_train)\n",
    "pd.DataFrame(cv_fit.cv_results_).sort_values('mean_test_score', ascending=False)[0:5]"
   ]
  },
  {
   "cell_type": "code",
   "execution_count": 305,
   "metadata": {},
   "outputs": [
    {
     "data": {
      "text/html": [
       "<div>\n",
       "<style scoped>\n",
       "    .dataframe tbody tr th:only-of-type {\n",
       "        vertical-align: middle;\n",
       "    }\n",
       "\n",
       "    .dataframe tbody tr th {\n",
       "        vertical-align: top;\n",
       "    }\n",
       "\n",
       "    .dataframe thead th {\n",
       "        text-align: right;\n",
       "    }\n",
       "</style>\n",
       "<table border=\"1\" class=\"dataframe\">\n",
       "  <thead>\n",
       "    <tr style=\"text-align: right;\">\n",
       "      <th></th>\n",
       "      <th>mean_fit_time</th>\n",
       "      <th>std_fit_time</th>\n",
       "      <th>mean_score_time</th>\n",
       "      <th>std_score_time</th>\n",
       "      <th>param_learning_rate</th>\n",
       "      <th>param_max_depth</th>\n",
       "      <th>param_n_estimators</th>\n",
       "      <th>params</th>\n",
       "      <th>split0_test_score</th>\n",
       "      <th>split1_test_score</th>\n",
       "      <th>split2_test_score</th>\n",
       "      <th>split3_test_score</th>\n",
       "      <th>split4_test_score</th>\n",
       "      <th>mean_test_score</th>\n",
       "      <th>std_test_score</th>\n",
       "      <th>rank_test_score</th>\n",
       "    </tr>\n",
       "  </thead>\n",
       "  <tbody>\n",
       "    <tr>\n",
       "      <th>5</th>\n",
       "      <td>83.370846</td>\n",
       "      <td>1.188813</td>\n",
       "      <td>0.383596</td>\n",
       "      <td>0.020233</td>\n",
       "      <td>0.1</td>\n",
       "      <td>11</td>\n",
       "      <td>150</td>\n",
       "      <td>{'learning_rate': 0.1, 'max_depth': 11, 'n_est...</td>\n",
       "      <td>0.974186</td>\n",
       "      <td>0.969697</td>\n",
       "      <td>0.973064</td>\n",
       "      <td>0.978652</td>\n",
       "      <td>0.971910</td>\n",
       "      <td>0.973502</td>\n",
       "      <td>0.002973</td>\n",
       "      <td>1</td>\n",
       "    </tr>\n",
       "    <tr>\n",
       "      <th>4</th>\n",
       "      <td>56.875007</td>\n",
       "      <td>0.661627</td>\n",
       "      <td>0.366480</td>\n",
       "      <td>0.004779</td>\n",
       "      <td>0.1</td>\n",
       "      <td>11</td>\n",
       "      <td>100</td>\n",
       "      <td>{'learning_rate': 0.1, 'max_depth': 11, 'n_est...</td>\n",
       "      <td>0.971942</td>\n",
       "      <td>0.969697</td>\n",
       "      <td>0.974186</td>\n",
       "      <td>0.975281</td>\n",
       "      <td>0.973034</td>\n",
       "      <td>0.972828</td>\n",
       "      <td>0.001923</td>\n",
       "      <td>2</td>\n",
       "    </tr>\n",
       "    <tr>\n",
       "      <th>2</th>\n",
       "      <td>57.566587</td>\n",
       "      <td>2.493364</td>\n",
       "      <td>0.379380</td>\n",
       "      <td>0.016481</td>\n",
       "      <td>0.1</td>\n",
       "      <td>7</td>\n",
       "      <td>150</td>\n",
       "      <td>{'learning_rate': 0.1, 'max_depth': 7, 'n_esti...</td>\n",
       "      <td>0.974186</td>\n",
       "      <td>0.970819</td>\n",
       "      <td>0.974186</td>\n",
       "      <td>0.973034</td>\n",
       "      <td>0.970787</td>\n",
       "      <td>0.972602</td>\n",
       "      <td>0.001528</td>\n",
       "      <td>3</td>\n",
       "    </tr>\n",
       "    <tr>\n",
       "      <th>8</th>\n",
       "      <td>106.773492</td>\n",
       "      <td>12.869905</td>\n",
       "      <td>0.413223</td>\n",
       "      <td>0.017310</td>\n",
       "      <td>0.1</td>\n",
       "      <td>15</td>\n",
       "      <td>150</td>\n",
       "      <td>{'learning_rate': 0.1, 'max_depth': 15, 'n_est...</td>\n",
       "      <td>0.974186</td>\n",
       "      <td>0.968575</td>\n",
       "      <td>0.971942</td>\n",
       "      <td>0.976404</td>\n",
       "      <td>0.970787</td>\n",
       "      <td>0.972379</td>\n",
       "      <td>0.002708</td>\n",
       "      <td>4</td>\n",
       "    </tr>\n",
       "    <tr>\n",
       "      <th>7</th>\n",
       "      <td>69.113906</td>\n",
       "      <td>0.481338</td>\n",
       "      <td>0.364668</td>\n",
       "      <td>0.009497</td>\n",
       "      <td>0.1</td>\n",
       "      <td>15</td>\n",
       "      <td>100</td>\n",
       "      <td>{'learning_rate': 0.1, 'max_depth': 15, 'n_est...</td>\n",
       "      <td>0.973064</td>\n",
       "      <td>0.968575</td>\n",
       "      <td>0.971942</td>\n",
       "      <td>0.975281</td>\n",
       "      <td>0.970787</td>\n",
       "      <td>0.971930</td>\n",
       "      <td>0.002240</td>\n",
       "      <td>5</td>\n",
       "    </tr>\n",
       "  </tbody>\n",
       "</table>\n",
       "</div>"
      ],
      "text/plain": [
       "   mean_fit_time  std_fit_time  mean_score_time  std_score_time  \\\n",
       "5      83.370846      1.188813         0.383596        0.020233   \n",
       "4      56.875007      0.661627         0.366480        0.004779   \n",
       "2      57.566587      2.493364         0.379380        0.016481   \n",
       "8     106.773492     12.869905         0.413223        0.017310   \n",
       "7      69.113906      0.481338         0.364668        0.009497   \n",
       "\n",
       "  param_learning_rate param_max_depth param_n_estimators  \\\n",
       "5                 0.1              11                150   \n",
       "4                 0.1              11                100   \n",
       "2                 0.1               7                150   \n",
       "8                 0.1              15                150   \n",
       "7                 0.1              15                100   \n",
       "\n",
       "                                              params  split0_test_score  \\\n",
       "5  {'learning_rate': 0.1, 'max_depth': 11, 'n_est...           0.974186   \n",
       "4  {'learning_rate': 0.1, 'max_depth': 11, 'n_est...           0.971942   \n",
       "2  {'learning_rate': 0.1, 'max_depth': 7, 'n_esti...           0.974186   \n",
       "8  {'learning_rate': 0.1, 'max_depth': 15, 'n_est...           0.974186   \n",
       "7  {'learning_rate': 0.1, 'max_depth': 15, 'n_est...           0.973064   \n",
       "\n",
       "   split1_test_score  split2_test_score  split3_test_score  split4_test_score  \\\n",
       "5           0.969697           0.973064           0.978652           0.971910   \n",
       "4           0.969697           0.974186           0.975281           0.973034   \n",
       "2           0.970819           0.974186           0.973034           0.970787   \n",
       "8           0.968575           0.971942           0.976404           0.970787   \n",
       "7           0.968575           0.971942           0.975281           0.970787   \n",
       "\n",
       "   mean_test_score  std_test_score  rank_test_score  \n",
       "5         0.973502        0.002973                1  \n",
       "4         0.972828        0.001923                2  \n",
       "2         0.972602        0.001528                3  \n",
       "8         0.972379        0.002708                4  \n",
       "7         0.971930        0.002240                5  "
      ]
     },
     "execution_count": 305,
     "metadata": {},
     "output_type": "execute_result"
    }
   ],
   "source": [
    "xgbclass = XGBClassifier()\n",
    "param = {\n",
    "    'n_estimators': [50, 100, 150], \n",
    "    'max_depth': [7, 11, 15],\n",
    "    'learning_rate': [0.1]\n",
    "}\n",
    "\n",
    "clf = GridSearchCV(xgbclass, param, cv=5)\n",
    "cv_fit = clf.fit(X_train, y_train)\n",
    "pd.DataFrame(cv_fit.cv_results_).sort_values('mean_test_score', ascending=False)[0:5]"
   ]
  },
  {
   "cell_type": "markdown",
   "metadata": {},
   "source": [
    "### Final model and evaluation"
   ]
  },
  {
   "cell_type": "code",
   "execution_count": 314,
   "metadata": {},
   "outputs": [
    {
     "name": "stdout",
     "output_type": "stream",
     "text": [
      "confusion Matrix\n",
      "[[956   0]\n",
      " [ 22 136]]\n",
      "Accuracy: 98.0251 %.\n",
      "Fasle Positive Rate 0.0 %\n",
      "Fasle Negative Rate 13.9241 %\n",
      "Classification Report\n",
      "              precision    recall  f1-score   support\n",
      "\n",
      "           0       0.98      1.00      0.99       956\n",
      "           1       1.00      0.86      0.93       158\n",
      "\n",
      "    accuracy                           0.98      1114\n",
      "   macro avg       0.99      0.93      0.96      1114\n",
      "weighted avg       0.98      0.98      0.98      1114\n",
      "\n",
      "Roc Auc score: 0.9304\n"
     ]
    },
    {
     "data": {
      "image/png": "[encoded data removed]",
      "text/plain": [
       "<Figure size 720x720 with 1 Axes>"
      ]
     },
     "metadata": {
      "needs_background": "light"
     },
     "output_type": "display_data"
    }
   ],
   "source": [
    "### select model to use\n",
    "clf = RandomForestClassifier(random_state=1, n_estimators = 150, max_depth = 90)\n",
    "\n",
    "### fit the model\n",
    "clf.fit(X_train, y_train)\n",
    "\n",
    "### predict\n",
    "y_pred = clf.predict(X_test)\n",
    "\n",
    "### evaluate performance\n",
    "evalation(y_pred,y_test)\n",
    "roc_curve_eval(y_pred,y_test)"
   ]
  },
  {
   "cell_type": "code",
   "execution_count": 315,
   "metadata": {},
   "outputs": [
    {
     "name": "stdout",
     "output_type": "stream",
     "text": [
      "confusion Matrix\n",
      "[[947   9]\n",
      " [ 12 146]]\n",
      "Accuracy: 98.1149 %.\n",
      "Fasle Positive Rate 0.9414 %\n",
      "Fasle Negative Rate 7.5949 %\n",
      "Classification Report\n",
      "              precision    recall  f1-score   support\n",
      "\n",
      "           0       0.99      0.99      0.99       956\n",
      "           1       0.94      0.92      0.93       158\n",
      "\n",
      "    accuracy                           0.98      1114\n",
      "   macro avg       0.96      0.96      0.96      1114\n",
      "weighted avg       0.98      0.98      0.98      1114\n",
      "\n",
      "Roc Auc score: 0.9573\n"
     ]
    },
    {
     "data": {
      "image/png": "[encoded data removed]",
      "text/plain": [
       "<Figure size 720x720 with 1 Axes>"
      ]
     },
     "metadata": {
      "needs_background": "light"
     },
     "output_type": "display_data"
    }
   ],
   "source": [
    "### select model to use\n",
    "clf = XGBClassifier(random_state=1,n_estimators=150, max_depth=11, learning_rate = 0.1)\n",
    "\n",
    "### fit the model\n",
    "clf.fit(X_train, y_train)\n",
    "\n",
    "### predict\n",
    "y_pred = clf.predict(X_test)\n",
    "\n",
    "### evaluate performance\n",
    "evalation(y_pred,y_test)\n",
    "roc_curve_eval(y_pred,y_test)"
   ]
  },
  {
   "cell_type": "markdown",
   "metadata": {},
   "source": [
    "### Summary"
   ]
  },
  {
   "cell_type": "markdown",
   "metadata": {},
   "source": [
    "Although XGboost model has slightly higher accuracy than random forest model, we need to think about what we are trying to predict. In this case, we are trying to predict whether email are legitimate email or spam email. In the nature of email, we care more about if the legitimate email is accidentally classified as spam. This will create a huge headache for people, since they would possibly missed important email that was accidentally put in the spam folder.\n",
    "\n",
    "In other words, we care more about the False Positive than the False Negative in a spam filter model. Hence, the Random forest model will be a better model with 0% False Positive and 100 % precision. This means all email that was classified as spam by random forest are all spam.\n",
    "\n",
    "Even though, the Fasle Negative Rate of Random Forest model are a two times higher than Xgboost model, it should not be too much of a issue, since False Positive Rate are greater concern than False Negative Rate for a Spam Filter. "
   ]
  }
 ],
 "metadata": {
  "kernelspec": {
   "display_name": "Python 3",
   "language": "python",
   "name": "python3"
  },
  "language_info": {
   "codemirror_mode": {
    "name": "ipython",
    "version": 3
   },
   "file_extension": ".py",
   "mimetype": "text/x-python",
   "name": "python",
   "nbconvert_exporter": "python",
   "pygments_lexer": "ipython3",
   "version": "3.8.3"
  }
 },
 "nbformat": 4,
 "nbformat_minor": 4
}
